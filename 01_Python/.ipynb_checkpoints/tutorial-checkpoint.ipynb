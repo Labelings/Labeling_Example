{
 "cells": [
  {
   "cell_type": "markdown",
   "metadata": {},
   "source": [
    "### !!only run this if you need to install any of those packages!!"
   ]
  },
  {
   "cell_type": "code",
   "execution_count": null,
   "metadata": {},
   "outputs": [],
   "source": [
    "!pip install tifffile\n",
    "!pip install numpy\n",
    "!pip install matplotlib\n",
    "!pip install scipy\n",
    "!pip install colorcet\n",
    "!pip install labeling --upgrade"
   ]
  },
  {
   "cell_type": "markdown",
   "metadata": {},
   "source": [
    "## Import all necessary dependencies"
   ]
  },
  {
   "cell_type": "code",
   "execution_count": null,
   "metadata": {},
   "outputs": [],
   "source": [
    "import sys\n",
    "import numpy as np\n",
    "np.set_printoptions(threshold=sys.maxsize)\n",
    "from tifffile import imread\n",
    "from scipy.ndimage import rotate\n",
    "import json\n",
    "import colorcet as cc\n",
    "import matplotlib.pyplot as plt\n",
    "import matplotlib.colors as col\n",
    "from labeling import Labeling as lb"
   ]
  },
  {
   "cell_type": "markdown",
   "metadata": {},
   "source": [
    "## Tutorial preparation: Create example\n",
    "We prepare eight example images that we merge together into a single labeling file."
   ]
  },
  {
   "cell_type": "code",
   "execution_count": null,
   "metadata": {},
   "outputs": [],
   "source": [
    "example_images = []\n",
    "example_images.append(np.invert(imread(\"up_big.tif\")))\n",
    "example_images[0][example_images[0]>0] = 130\n",
    "example_images.append(rotate(np.transpose(np.flip(example_images[0]).copy()), angle=45, reshape=False, mode=\"grid-constant\", cval=0, order=0))\n",
    "example_images[1][example_images[1]>0] = 131\n",
    "example_images.append(np.transpose(np.flip(example_images[0]).copy()))\n",
    "example_images[2][example_images[2]>0] = 132\n",
    "example_images.append(rotate(np.flip(example_images[0]).copy(), angle=45, reshape=False, mode=\"grid-constant\", cval=0, order=0))\n",
    "example_images[3][example_images[3]>0] = 133\n",
    "example_images.append(np.flip(example_images[0]).copy())\n",
    "example_images[4][example_images[4]>0] = 134\n",
    "example_images.append(rotate(np.transpose(example_images[0]).copy(), angle=45, reshape=False, mode=\"grid-constant\", cval=0, order=0))\n",
    "example_images[5][example_images[5]>0] = 135\n",
    "example_images.append(np.transpose(example_images[0]).copy())\n",
    "example_images[6][example_images[6]>0] = 136\n",
    "example_images.append(rotate(example_images[0], angle=45, reshape=False, mode=\"grid-constant\", cval=0, order=0))\n",
    "example_images[7][example_images[7]>0] = 137"
   ]
  },
  {
   "cell_type": "code",
   "execution_count": null,
   "metadata": {
    "scrolled": true
   },
   "outputs": [],
   "source": [
    "plt.imshow(example_images[1])"
   ]
  },
  {
   "cell_type": "markdown",
   "metadata": {},
   "source": [
    "## Example 1: Iterate over all images"
   ]
  },
  {
   "cell_type": "code",
   "execution_count": null,
   "metadata": {
    "scrolled": true
   },
   "outputs": [],
   "source": [
    "\n",
    "labeling = lb.Labeling.fromValues(np.zeros((512,512),np.int32))\n",
    "labeling.iterate_over_images(example_images, [str(int) for int in list(range(1,len(example_images)+1))])\n",
    "img, labelingdata = labeling.save_result(\"example\")"
   ]
  },
  {
   "cell_type": "code",
   "execution_count": null,
   "metadata": {},
   "outputs": [],
   "source": [
    "plt.figure(figsize=(36, 36))\n",
    "plt.imshow(img, norm=col.Normalize(vmin=0, vmax=53, clip=True), cmap=cc.cm.glasbey_bw)"
   ]
  },
  {
   "cell_type": "code",
   "execution_count": null,
   "metadata": {
    "scrolled": true
   },
   "outputs": [],
   "source": [
    "display(vars(labelingdata))"
   ]
  },
  {
   "cell_type": "markdown",
   "metadata": {},
   "source": [
    "## Example 2: Save Labeling with Metadata\n",
    "We are going to use the labeling data created in the Example before and save it with MetaData attached to it."
   ]
  },
  {
   "cell_type": "code",
   "execution_count": null,
   "metadata": {},
   "outputs": [],
   "source": [
    "meta = {\n",
    "    \"date\": \"2021-06-28\",\n",
    "    \"revision\": 1,\n",
    "    \"author\": \"Tom Burke\"\n",
    "}\n",
    "labeling.add_metadata(meta)\n",
    "img, labelingdata = labeling.save_result(\"example2\")\n",
    "display(vars(labelingdata))"
   ]
  },
  {
   "cell_type": "markdown",
   "metadata": {},
   "source": [
    "## Example 3: Loading data from file\n",
    "The image is expected to be in the same folder as the .bson-File by default.\n",
    "The examples above provide just that. We lode the labeling created in Example1."
   ]
  },
  {
   "cell_type": "code",
   "execution_count": null,
   "metadata": {},
   "outputs": [],
   "source": [
    "loaded_labeling = lb.Labeling.from_file('example2.bson')\n",
    "plt.imshow(loaded_labeling.img)\n",
    "display(vars(loaded_labeling.labels))"
   ]
  },
  {
   "cell_type": "code",
   "execution_count": null,
   "metadata": {},
   "outputs": [],
   "source": []
  }
 ],
 "metadata": {
  "kernelspec": {
   "display_name": "Python 3",
   "language": "python",
   "name": "python3"
  },
  "language_info": {
   "codemirror_mode": {
    "name": "ipython",
    "version": 3
   },
   "file_extension": ".py",
   "mimetype": "text/x-python",
   "name": "python",
   "nbconvert_exporter": "python",
   "pygments_lexer": "ipython3",
   "version": "3.8.3"
  }
 },
 "nbformat": 4,
 "nbformat_minor": 4
}
